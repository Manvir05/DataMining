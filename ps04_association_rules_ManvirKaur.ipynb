{
 "cells": [
  {
   "cell_type": "markdown",
   "metadata": {},
   "source": [
    "# Practice Session 04: Basket analysis"
   ]
  },
  {
   "cell_type": "markdown",
   "metadata": {},
   "source": [
    "Author: <font color=\"blue\">Manvir Kaur Singh</font>\n",
    "\n",
    "E-mail: <font color=\"blue\">manvir.kaur01@estudiant.upf.edu</font>\n",
    "\n",
    "Date: <font color=\"blue\">21/10/2023</font>"
   ]
  },
  {
   "cell_type": "code",
   "execution_count": 1,
   "metadata": {},
   "outputs": [
    {
     "name": "stdout",
     "output_type": "stream",
     "text": [
      "Requirement already satisfied: apyori in /Users/manvirkaur/anaconda3/lib/python3.11/site-packages (1.1.2)\n",
      "Note: you may need to restart the kernel to use updated packages.\n"
     ]
    }
   ],
   "source": [
    "pip install apyori"
   ]
  },
  {
   "cell_type": "code",
   "execution_count": 2,
   "metadata": {},
   "outputs": [],
   "source": [
    "import numpy as np  \n",
    "import matplotlib.pyplot as plt  \n",
    "import pandas as pd  \n",
    "import csv\n",
    "import gzip\n",
    "from apyori import apriori"
   ]
  },
  {
   "cell_type": "markdown",
   "metadata": {},
   "source": [
    "# 1. Playing with apyori"
   ]
  },
  {
   "cell_type": "code",
   "execution_count": 3,
   "metadata": {},
   "outputs": [],
   "source": [
    "# LEAVE AS-IS\n",
    "\n",
    "def print_apyori_output (association_results, info=False, info_key=False):\n",
    "    for relation_record in association_results:\n",
    "        itemset = list(relation_record.items)\n",
    "        \n",
    "        # Consider only itemsets of two elements\n",
    "        if len(itemset) > 1: \n",
    "        \n",
    "            print(\"Rules involving itemset %s\" % itemset)\n",
    "            support = relation_record.support\n",
    "\n",
    "            for rules in relation_record.ordered_statistics:\n",
    "                antecedent = list(rules.items_base)\n",
    "                consequent = list(rules.items_add)\n",
    "                \n",
    "                if info_key:\n",
    "                    antecedent = [info.loc[x][info_key] for x in antecedent]\n",
    "                    consequent = [info.loc[x][info_key] for x in consequent]\n",
    "                \n",
    "                confidence = rules.confidence\n",
    "                lift = rules.lift\n",
    "\n",
    "                print(\"%s => %s (support=%.4f, confidence=%.2f, lift=%.2f)\" %\n",
    "                      (antecedent, consequent, support, confidence, lift))\n",
    "            print()"
   ]
  },
  {
   "cell_type": "code",
   "execution_count": 4,
   "metadata": {},
   "outputs": [
    {
     "name": "stdout",
     "output_type": "stream",
     "text": [
      "Rules involving itemset ['beer', 'olives', 'chips']\n",
      "['beer', 'chips'] => ['olives'] (support=0.3000, confidence=1.00, lift=1.67)\n",
      "\n"
     ]
    }
   ],
   "source": [
    "transactions = [\n",
    "    ['beer', 'chips', 'nuts', 'olives'],\n",
    "    ['beer', 'chips', 'olives'],\n",
    "    ['chips', 'nuts' ],\n",
    "    ['chips', 'olives'],\n",
    "    ['beer', 'nuts' ],\n",
    "    ['chips'],\n",
    "    ['nuts', 'olives'],\n",
    "    ['beer', 'nuts'],\n",
    "    ['beer', 'chips', 'olives'], \n",
    "    ['beer', 'nuts', 'olives'], \n",
    "\n",
    "]\n",
    "results = list(apriori(transactions, min_support=0.3, min_confidence=0.75, min_lift=1.0))\n",
    "\n",
    "print_apyori_output(results)"
   ]
  },
  {
   "cell_type": "markdown",
   "metadata": {},
   "source": [
    "<font size=\"+1\" color=\"red\">Replace this cell with your own example of transactions (at least 20 transactions) and execution of the apriori algorithm, in which you should obtain at least ONE and at most THREE rules.</font>"
   ]
  },
  {
   "cell_type": "code",
   "execution_count": 5,
   "metadata": {},
   "outputs": [],
   "source": [
    "transactions = [\n",
    "    ['orangejuice', 'apple', 'toast'],\n",
    "    ['nuts', 'milk', 'coffee'],\n",
    "    ['orangejuice', 'toast' , 'coffee'],\n",
    "    ['apple', 'toast', 'coffee'],\n",
    "    ['milk', 'nuts', 'coffee' ],\n",
    "    ['orangejuice', 'apple', 'toast', 'coffee'],\n",
    "    ['nuts', 'milk'],\n",
    "    ['orangejuice', 'coffee'],\n",
    "    ['toast', 'coffee'],\n",
    "    ['milk'],\n",
    "    ['milk', 'apple'],\n",
    "    ['nuts', 'toast', 'coffee'],\n",
    "    ['toast' , 'coffee'],\n",
    "    ['apple', 'toast'],\n",
    "    ['nuts', 'coffee' ],\n",
    "    ['apple', 'toast', 'coffee'],\n",
    "    ['nuts'],\n",
    "    ['coffee'],\n",
    "    ['toast', 'coffee','orangejuice'],\n",
    "    ['toast', 'nuts'],\n",
    "    ['orangejuice', 'apple', 'coffee']\n",
    "    \n",
    "\n",
    "]\n",
    "results = list(apriori(transactions, min_support=0.3, min_confidence=0.6, min_lift=1.0))"
   ]
  },
  {
   "cell_type": "markdown",
   "metadata": {},
   "source": [
    "<font size=\"+1\" color=\"red\">Replace this cell with (1) a printout of the rules you have obtained, and (2) for each of those rules, indicate clearly how the support, confidence, and lift is calculated. Do not merely repeat the formula: indicate how each number is computed based on the transactions you provided, as if you were trying to verify that the numbers are correct.</font>"
   ]
  },
  {
   "cell_type": "code",
   "execution_count": 6,
   "metadata": {},
   "outputs": [
    {
     "name": "stdout",
     "output_type": "stream",
     "text": [
      "Rules involving itemset ['coffee', 'toast']\n",
      "['toast'] => ['coffee'] (support=0.3810, confidence=0.73, lift=1.09)\n",
      "\n"
     ]
    }
   ],
   "source": [
    "print_apyori_output(results)"
   ]
  },
  {
   "cell_type": "markdown",
   "metadata": {},
   "source": [
    "Calculations for the Rule: ['toast'] => ['coffee']\n",
    "SUPPORT:\n",
    "\n",
    "SUPPORT('toast' => 'coffee') = (NUM OF TRANSACTIONS CONTAINING 'TOAST' AND 'COFFEE')/(TOTAL NUM OF TRANSACTIONS) = 8/21 = 0.381\n",
    "\n",
    "CONFIDENCE:\n",
    "\n",
    "CONFIDENCE('toast' => 'coffee') = (SUPPORT('toast' => 'coffee'))/(SUPPORT('toast')) = (8/21)/(11/21)= 8/11 = 0.73\n",
    "\n",
    "LIFT:\n",
    "\n",
    "LIFT('toast' => 'coffee') = (CONFIDENCE('toast' => 'coffee'))/(SUPPORT('coffee'))= (8/11)/(14/21) = 1.09\n",
    "\n",
    "\n",
    "\n",
    "Here, the lift value indicates that the likelihood of buying 'toast' and 'coffee' together is 1.09 times higher than if they were statistically independent."
   ]
  },
  {
   "cell_type": "markdown",
   "metadata": {},
   "source": [
    "# 2. Load and prepare the shopping baskets"
   ]
  },
  {
   "cell_type": "code",
   "execution_count": 7,
   "metadata": {},
   "outputs": [
    {
     "data": {
      "text/html": [
       "<div>\n",
       "<style scoped>\n",
       "    .dataframe tbody tr th:only-of-type {\n",
       "        vertical-align: middle;\n",
       "    }\n",
       "\n",
       "    .dataframe tbody tr th {\n",
       "        vertical-align: top;\n",
       "    }\n",
       "\n",
       "    .dataframe thead th {\n",
       "        text-align: right;\n",
       "    }\n",
       "</style>\n",
       "<table border=\"1\" class=\"dataframe\">\n",
       "  <thead>\n",
       "    <tr style=\"text-align: right;\">\n",
       "      <th></th>\n",
       "      <th>product_name</th>\n",
       "      <th>department_id</th>\n",
       "    </tr>\n",
       "    <tr>\n",
       "      <th>product_id</th>\n",
       "      <th></th>\n",
       "      <th></th>\n",
       "    </tr>\n",
       "  </thead>\n",
       "  <tbody>\n",
       "    <tr>\n",
       "      <th>1</th>\n",
       "      <td>Chocolate Sandwich Cookies</td>\n",
       "      <td>19</td>\n",
       "    </tr>\n",
       "    <tr>\n",
       "      <th>2</th>\n",
       "      <td>All-Seasons Salt</td>\n",
       "      <td>13</td>\n",
       "    </tr>\n",
       "    <tr>\n",
       "      <th>3</th>\n",
       "      <td>Robust Golden Unsweetened Oolong Tea</td>\n",
       "      <td>7</td>\n",
       "    </tr>\n",
       "    <tr>\n",
       "      <th>4</th>\n",
       "      <td>Smart Ones Classic Favorites Mini Rigatoni Wit...</td>\n",
       "      <td>1</td>\n",
       "    </tr>\n",
       "    <tr>\n",
       "      <th>5</th>\n",
       "      <td>Green Chile Anytime Sauce</td>\n",
       "      <td>13</td>\n",
       "    </tr>\n",
       "    <tr>\n",
       "      <th>...</th>\n",
       "      <td>...</td>\n",
       "      <td>...</td>\n",
       "    </tr>\n",
       "    <tr>\n",
       "      <th>96</th>\n",
       "      <td>Sprinklez Confetti Fun Organic Toppings</td>\n",
       "      <td>13</td>\n",
       "    </tr>\n",
       "    <tr>\n",
       "      <th>97</th>\n",
       "      <td>Organic Chamomile Lemon Tea</td>\n",
       "      <td>7</td>\n",
       "    </tr>\n",
       "    <tr>\n",
       "      <th>98</th>\n",
       "      <td>2% Yellow American Cheese</td>\n",
       "      <td>16</td>\n",
       "    </tr>\n",
       "    <tr>\n",
       "      <th>99</th>\n",
       "      <td>Local Living Butter Lettuce</td>\n",
       "      <td>4</td>\n",
       "    </tr>\n",
       "    <tr>\n",
       "      <th>100</th>\n",
       "      <td>Peanut Butter &amp; Strawberry Jam Sandwich</td>\n",
       "      <td>1</td>\n",
       "    </tr>\n",
       "  </tbody>\n",
       "</table>\n",
       "<p>100 rows × 2 columns</p>\n",
       "</div>"
      ],
      "text/plain": [
       "                                                 product_name  department_id\n",
       "product_id                                                                  \n",
       "1                                  Chocolate Sandwich Cookies             19\n",
       "2                                            All-Seasons Salt             13\n",
       "3                        Robust Golden Unsweetened Oolong Tea              7\n",
       "4           Smart Ones Classic Favorites Mini Rigatoni Wit...              1\n",
       "5                                   Green Chile Anytime Sauce             13\n",
       "...                                                       ...            ...\n",
       "96                    Sprinklez Confetti Fun Organic Toppings             13\n",
       "97                                Organic Chamomile Lemon Tea              7\n",
       "98                                  2% Yellow American Cheese             16\n",
       "99                                Local Living Butter Lettuce              4\n",
       "100                   Peanut Butter & Strawberry Jam Sandwich              1\n",
       "\n",
       "[100 rows x 2 columns]"
      ]
     },
     "execution_count": 7,
     "metadata": {},
     "output_type": "execute_result"
    }
   ],
   "source": [
    "# LEAVE AS-IS\n",
    "\n",
    "# File names\n",
    "INPUT_PRODUCTS = \"instacart-products.csv\"\n",
    "INPUT_TRANSACTIONS = \"instacart-transactions.csv.gz\"\n",
    "\n",
    "# Read into a dataframe\n",
    "products = pd.read_csv(INPUT_PRODUCTS, delimiter=\",\")\n",
    "\n",
    "# Set product_id as index, and drop column aisle_id\n",
    "products = products.set_index('product_id').drop(columns=['aisle_id'])\n",
    "\n",
    "products.head(100)"
   ]
  },
  {
   "cell_type": "markdown",
   "metadata": {},
   "source": [
    "## 2.1. Select by department"
   ]
  },
  {
   "cell_type": "code",
   "execution_count": 8,
   "metadata": {},
   "outputs": [],
   "source": [
    "# LEAVE AS-IS\n",
    "\n",
    "DEPT_BAKERY = 3\n",
    "DEPT_VEGGIES = 4\n",
    "DEPT_ALCOHOL = 5\n",
    "DEPT_WORLD = 6\n",
    "DEPT_DRINKS = 7\n",
    "DEPT_PETS = 8\n",
    "DEPT_PHARMACY = 11\n",
    "DEPT_CLEANING = 17\n",
    "DEPT_BABIES = 18"
   ]
  },
  {
   "cell_type": "markdown",
   "metadata": {},
   "source": [
    "<font size=\"+1\" color=\"red\">Replace this cell with your code for *select_from_departments*.</font>"
   ]
  },
  {
   "cell_type": "code",
   "execution_count": 9,
   "metadata": {},
   "outputs": [],
   "source": [
    "def select_from_departments(products, product_ids, department_ids):\n",
    "    s_products = []\n",
    "    for p_id in product_ids:\n",
    "        if p_id in products.index and products.loc[p_id].department_id in department_ids:\n",
    "            s_products.append(p_id)\n",
    "    return s_products"
   ]
  },
  {
   "cell_type": "markdown",
   "metadata": {},
   "source": [
    "<font size=\"+1\" color=\"red\">Replace this cell with code to test your function with three different test cases. Each test case is a list of items and a list of 1, 2, or 3 departments.</font>"
   ]
  },
  {
   "cell_type": "code",
   "execution_count": 10,
   "metadata": {},
   "outputs": [
    {
     "name": "stdout",
     "output_type": "stream",
     "text": [
      "[57, 71, 111]\n",
      "[1, 2, 3, 4, 5, 6, 7, 8, 9, 10]\n",
      "[111, 101, 102, 103, 104, 105, 106, 107, 108]\n"
     ]
    }
   ],
   "source": [
    "products_ids = [22, 26, 45, 54, 57, 71, 111, 112]\n",
    "department_ids = [DEPT_BAKERY, DEPT_CLEANING]\n",
    "\n",
    "products_data = {\n",
    "    'product_name': ['Fresh Breath Oral Rinse Mild Mint', 'Fancy Feast Trout Feast Flaked Wet Cat Food', 'European Cucumber', '24/7 Performance Cat Litter', 'Flat Toothpicks', 'Ultra 7 Inch Polypropylene Traditional Plates', 'Fabric Softener, Geranium Scent', 'Hot Tomatillo Salsa'],\n",
    "    'department_id': [11, 8, 4, 8, 17, 17, 17, 13]\n",
    "}\n",
    "\n",
    "products_1 = pd.DataFrame(products_data, index=products_ids)\n",
    "\n",
    "print(select_from_departments(products_1, products_ids, department_ids))\n",
    "\n",
    "\n",
    "\n",
    "products_ids_2 = [1, 2, 3, 4, 5, 6, 7, 8, 9, 10]\n",
    "departments_ids_2 = [DEPT_VEGGIES, DEPT_DRINKS]\n",
    "\n",
    "products_data_2 = {\n",
    "    'product_name': ['Apple', 'Orange Juice', 'Carrot', 'Soda', 'Lettuce', 'Milk', 'Tomato', 'Water', 'Banana', 'Cucumber'],\n",
    "    'department_id': [DEPT_VEGGIES, DEPT_DRINKS, DEPT_VEGGIES, DEPT_DRINKS, DEPT_VEGGIES, DEPT_DRINKS, DEPT_VEGGIES, DEPT_DRINKS, DEPT_VEGGIES, DEPT_VEGGIES]\n",
    "}\n",
    "\n",
    "products_2 = pd.DataFrame(products_data_2, index=products_ids_2)\n",
    "\n",
    "print(select_from_departments(products_2, products_ids_2, departments_ids_2))\n",
    "\n",
    "\n",
    "\n",
    "\n",
    "products_ids_3 = [111, 101, 102, 103, 104, 105, 106, 107, 108]\n",
    "departments_ids_3 = [DEPT_ALCOHOL, DEPT_BABIES]\n",
    "\n",
    "products_data_3 = {\n",
    "    'product_name': ['Baby Bottle', 'Diapers', 'Baby Food', 'Baby Shampoo', 'Pacifier', 'Baby Wipes', 'Teething Toy', 'Baby Lotion', 'Baby Clothes'],\n",
    "    'department_id': [DEPT_BABIES, DEPT_BABIES, DEPT_BABIES, DEPT_BABIES, DEPT_BABIES, DEPT_BABIES, DEPT_BABIES, DEPT_BABIES, DEPT_BABIES]\n",
    "}\n",
    "\n",
    "products_3 = pd.DataFrame(products_data_3, index=products_ids_3)\n",
    "\n",
    "print(select_from_departments(products_3, products_ids_3, departments_ids_3))\n"
   ]
  },
  {
   "cell_type": "markdown",
   "metadata": {},
   "source": [
    "## 2.2. Read and filter transactions"
   ]
  },
  {
   "cell_type": "markdown",
   "metadata": {},
   "source": [
    "<font size=\"+1\" color=\"red\">Replace this cell with your code to read transactions, keeping only items in DEPT_CLEANING. Remember to stop after keeping 5000 transactions.</font>"
   ]
  },
  {
   "cell_type": "code",
   "execution_count": 11,
   "metadata": {},
   "outputs": [
    {
     "name": "stdout",
     "output_type": "stream",
     "text": [
      "Transaction read: 1000, Transaction stored: 158\n",
      "Transaction read: 2000, Transaction stored: 311\n",
      "Transaction read: 3000, Transaction stored: 460\n",
      "Transaction read: 4000, Transaction stored: 598\n",
      "Transaction read: 5000, Transaction stored: 745\n",
      "Transaction read: 6000, Transaction stored: 902\n",
      "Transaction read: 7000, Transaction stored: 1067\n",
      "Transaction read: 8000, Transaction stored: 1206\n",
      "Transaction read: 9000, Transaction stored: 1373\n",
      "Transaction read: 10000, Transaction stored: 1515\n",
      "Transaction read: 11000, Transaction stored: 1670\n",
      "Transaction read: 12000, Transaction stored: 1807\n",
      "Transaction read: 13000, Transaction stored: 1951\n",
      "Transaction read: 14000, Transaction stored: 2102\n",
      "Transaction read: 15000, Transaction stored: 2245\n",
      "Transaction read: 16000, Transaction stored: 2384\n",
      "Transaction read: 17000, Transaction stored: 2543\n",
      "Transaction read: 18000, Transaction stored: 2692\n",
      "Transaction read: 19000, Transaction stored: 2840\n",
      "Transaction read: 20000, Transaction stored: 2974\n",
      "Transaction read: 21000, Transaction stored: 3125\n",
      "Transaction read: 22000, Transaction stored: 3267\n",
      "Transaction read: 23000, Transaction stored: 3407\n",
      "Transaction read: 24000, Transaction stored: 3578\n",
      "Transaction read: 25000, Transaction stored: 3748\n",
      "Transaction read: 26000, Transaction stored: 3891\n",
      "Transaction read: 27000, Transaction stored: 4028\n",
      "Transaction read: 28000, Transaction stored: 4164\n",
      "Transaction read: 29000, Transaction stored: 4304\n",
      "Transaction read: 30000, Transaction stored: 4421\n",
      "Transaction read: 31000, Transaction stored: 4560\n",
      "Transaction read: 32000, Transaction stored: 4700\n",
      "Transaction read: 33000, Transaction stored: 4837\n",
      "Transaction read: 34000, Transaction stored: 4974\n"
     ]
    }
   ],
   "source": [
    "# Open a compressed file\n",
    "\n",
    "transactions = []\n",
    "trans_read = 0\n",
    "trans_stored = 0\n",
    "with gzip.open(INPUT_TRANSACTIONS, \"rt\") as inputfile:\n",
    "    \n",
    "    # Create a CSV reader\n",
    "    reader = csv.reader(inputfile, delimiter=\",\")\n",
    "    \n",
    "    # Iterate through the CSV file\n",
    "    for row in reader:\n",
    "        \n",
    "        # Convert to integers\n",
    "        items = [int(x) for x in row]\n",
    "        \n",
    "        if any(products.loc[item].department_id == DEPT_CLEANING for item in items):\n",
    "            transactions.append(items)\n",
    "            trans_stored += 1\n",
    "            \n",
    "        trans_read += 1\n",
    "        \n",
    "        if trans_read % 1000 ==0:\n",
    "            print (f\"Transaction read: {trans_read}, Transaction stored: {trans_stored}\")\n",
    "        \n",
    "        if trans_stored >=5000:\n",
    "            break"
   ]
  },
  {
   "cell_type": "markdown",
   "metadata": {},
   "source": [
    "## 2.3. Extract association rules and comment on them (DEPT_CLEANING)"
   ]
  },
  {
   "cell_type": "markdown",
   "metadata": {},
   "source": [
    "<font size=\"+1\" color=\"red\">Replace this cell with your code to extract association rules from the read transactions (DEPT_CLEANING).</font>"
   ]
  },
  {
   "cell_type": "code",
   "execution_count": 12,
   "metadata": {},
   "outputs": [
    {
     "name": "stdout",
     "output_type": "stream",
     "text": [
      "Rules involving itemset [13176, 5876]\n",
      "['Organic Lemon'] => ['Bag of Organic Bananas'] (support=0.0104, confidence=0.37, lift=3.25)\n",
      "\n",
      "Rules involving itemset [47209, 5876]\n",
      "['Organic Lemon'] => ['Organic Hass Avocado'] (support=0.0100, confidence=0.36, lift=5.80)\n",
      "\n",
      "Rules involving itemset [13176, 27966]\n",
      "['Organic Raspberries'] => ['Bag of Organic Bananas'] (support=0.0158, confidence=0.39, lift=3.40)\n",
      "\n",
      "Rules involving itemset [13176, 47209]\n",
      "['Organic Hass Avocado'] => ['Bag of Organic Bananas'] (support=0.0222, confidence=0.36, lift=3.15)\n",
      "\n"
     ]
    }
   ],
   "source": [
    "results = list(apriori(transactions, min_support=0.01, min_confidence=0.35, min_lift=0.1))\n",
    "print_apyori_output(results, products, 'product_name')\n"
   ]
  },
  {
   "cell_type": "markdown",
   "metadata": {},
   "source": [
    "<font size=\"+1\" color=\"red\">Replace this cell with a brief commentary on what you would recommend to the shopping app considering the extracted association rules.</font>"
   ]
  },
  {
   "cell_type": "markdown",
   "metadata": {},
   "source": [
    "Based on the extracted association rules, we can see that certain organic products are strongly associated with each other. Specifically, products like 'Organic Lemon', 'Organic Hass Avocado', and 'Organic Raspberries' show strong relationships with 'Bag of Organic Bananas'. So the shopping app can give disscount of bag of organic bananas whenever they buy organic raspberries, organic lemon or organic hass avocado."
   ]
  },
  {
   "cell_type": "markdown",
   "metadata": {},
   "source": [
    "## 2.4. Extract association rules and comment on them (other departments)"
   ]
  },
  {
   "cell_type": "markdown",
   "metadata": {},
   "source": [
    "<font size=\"+1\" color=\"red\">Replace this cell with code to select a different set of departments (at least two, not DEPT_CLEANING) and extract transactions again. Avoid replicating code when possible.</font>"
   ]
  },
  {
   "cell_type": "code",
   "execution_count": 13,
   "metadata": {},
   "outputs": [
    {
     "name": "stdout",
     "output_type": "stream",
     "text": [
      "Transaction read: 1000, Transaction stored: 773\n",
      "Transaction read: 2000, Transaction stored: 1518\n",
      "Transaction read: 3000, Transaction stored: 2267\n",
      "Transaction read: 4000, Transaction stored: 3018\n",
      "Transaction read: 5000, Transaction stored: 3760\n",
      "Transaction read: 6000, Transaction stored: 4493\n"
     ]
    }
   ],
   "source": [
    "transactions = []\n",
    "trans_read = 0\n",
    "trans_stored = 0\n",
    "with gzip.open(INPUT_TRANSACTIONS, \"rt\") as inputfile:\n",
    "    \n",
    "    # Create a CSV reader\n",
    "    reader = csv.reader(inputfile, delimiter=\",\")\n",
    "    \n",
    "    # Iterate through the CSV file\n",
    "    for row in reader:\n",
    "        \n",
    "        # Convert to integers\n",
    "        items = [int(x) for x in row]\n",
    "        \n",
    "        if any(products.loc[item].department_id == DEPT_VEGGIES for item in items):\n",
    "            transactions.append(items)\n",
    "            trans_stored += 1\n",
    "            \n",
    "        trans_read += 1\n",
    "        \n",
    "        if trans_read % 1000 ==0:\n",
    "            print (f\"Transaction read: {trans_read}, Transaction stored: {trans_stored}\")\n",
    "        \n",
    "        if trans_stored >=5000:\n",
    "            break"
   ]
  },
  {
   "cell_type": "code",
   "execution_count": 14,
   "metadata": {},
   "outputs": [
    {
     "name": "stdout",
     "output_type": "stream",
     "text": [
      "Rules involving itemset [24852, 28204]\n",
      "['Organic Fuji Apple'] => ['Banana'] (support=0.0144, confidence=0.38, lift=1.87)\n",
      "\n",
      "Rules involving itemset [30489, 24852]\n",
      "['Original Hummus'] => ['Banana'] (support=0.0106, confidence=0.36, lift=1.77)\n",
      "\n",
      "Rules involving itemset [45066, 24852]\n",
      "['Honeycrisp Apple'] => ['Banana'] (support=0.0158, confidence=0.41, lift=2.06)\n",
      "\n",
      "Rules involving itemset [49683, 24852]\n",
      "['Cucumber Kirby'] => ['Banana'] (support=0.0132, confidence=0.35, lift=1.76)\n",
      "\n"
     ]
    }
   ],
   "source": [
    "results = list(apriori(transactions, min_support=0.01, min_confidence=0.35, min_lift=0.1))\n",
    "print_apyori_output(results, products, 'product_name')"
   ]
  },
  {
   "cell_type": "markdown",
   "metadata": {},
   "source": [
    "<font size=\"+1\" color=\"red\">Replace this cell with your commentary on the obtained rules.</font>"
   ]
  },
  {
   "cell_type": "markdown",
   "metadata": {},
   "source": [
    "The generated association rules reveal interesting patterns in customer purchasing behavior, particularly regarding the interaction between fresh fruits and specific items like 'Banana'. "
   ]
  },
  {
   "cell_type": "markdown",
   "metadata": {},
   "source": [
    "<font size=\"+2\" color=\"#003300\">I hereby declare that, except for the code provided by the course instructors, all of my code, report, and figures were produced by myself.</font>"
   ]
  }
 ],
 "metadata": {
  "kernelspec": {
   "display_name": "Python 3 (ipykernel)",
   "language": "python",
   "name": "python3"
  },
  "language_info": {
   "codemirror_mode": {
    "name": "ipython",
    "version": 3
   },
   "file_extension": ".py",
   "mimetype": "text/x-python",
   "name": "python",
   "nbconvert_exporter": "python",
   "pygments_lexer": "ipython3",
   "version": "3.11.5"
  }
 },
 "nbformat": 4,
 "nbformat_minor": 2
}
