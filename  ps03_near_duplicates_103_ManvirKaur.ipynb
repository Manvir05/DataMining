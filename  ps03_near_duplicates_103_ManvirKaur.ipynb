{
 "cells": [
  {
   "cell_type": "markdown",
   "metadata": {},
   "source": [
    "# Practice Session 03: Find near-duplicates using shingling"
   ]
  },
  {
   "cell_type": "markdown",
   "metadata": {},
   "source": [
    "In this session we will take a large corpus of tweets and detect near-duplicates on this corpus using a technique known as *shingling*.\n",
    "\n",
    "Two documents are considered near-duplicates if they share a large amount of ngrams. The *ngrams* of a phrase are overlapping sequences of words of length *n*. For instance, the phrase '*Never let them guess your next move.*' has the following 3-grams:\n",
    "\n",
    "* 'never let them'\n",
    "* 'let them guess'\n",
    "* 'them guess your'\n",
    "* 'guess your next'\n",
    "* 'your next move'\n",
    "\n",
    "To measure the similarity between two sets, we will use the [Jaccard index](https://en.wikipedia.org/wiki/Jaccard_index), which is the size of the intersection of the two sets divided by their union. This values goes between 0.0 (meaning the documents have no ngrams in common) to 1.0 (meaning the documents have the same ngrams).\n",
    "\n",
    "To speed up things, instead of comparing the set of shingles of two documents which can be large, we will derive a fixed-length *signature* or *sketch* for each document. This will be obtained by (1) applying a random permutation to the list of possible ngrams, and (2) pick the ngram that appears first in the permuted list. The Jaccard index between these signatures will be a good approximation of the Jaccard index between the original sets of ngrams. \n",
    "\n",
    "<font size=\"-1\" color=\"gray\">(Remove this cell when delivering.)</font>"
   ]
  },
  {
   "cell_type": "markdown",
   "metadata": {},
   "source": [
    "Author: <font color=\"blue\">Manvir Kaur Singh</font>\n",
    "\n",
    "E-mail: <font color=\"blue\">manvir.kaur01@estudiant.upf.edu</font>\n",
    "\n",
    "Date: <font color=\"blue\">21/10/2023</font>"
   ]
  },
  {
   "cell_type": "code",
   "execution_count": 1,
   "metadata": {},
   "outputs": [],
   "source": [
    "import io\n",
    "import json\n",
    "import gzip\n",
    "import re\n",
    "import random\n",
    "import numpy as np\n",
    "import matplotlib.pyplot as plt\n",
    "from timeit import default_timer as timer\n",
    "import datetime"
   ]
  },
  {
   "cell_type": "code",
   "execution_count": 2,
   "metadata": {},
   "outputs": [
    {
     "name": "stdout",
     "output_type": "stream",
     "text": [
      "Read 10000 documents\n"
     ]
    }
   ],
   "source": [
    "# Input file\n",
    "INPUT_FILENAME = \"CovidLockdownCatalonia.json.gz\"\n",
    "\n",
    "# Array for storing messages\n",
    "messages = []\n",
    "MAX_MESSAGES = 10000\n",
    "\n",
    "with gzip.open(INPUT_FILENAME, \"rt\", encoding=\"utf-8\") as input_file:\n",
    "    \n",
    "    messages_read = 0\n",
    "    for line in input_file:\n",
    "            \n",
    "        # Read message\n",
    "        tweet = json.loads(line)\n",
    "\n",
    "        # Keep only messages in Catalan\n",
    "        if tweet[\"lang\"] == \"ca\":\n",
    "            \n",
    "            messages_read += 1\n",
    "            \n",
    "            if messages_read <= MAX_MESSAGES:\n",
    "                author = tweet[\"user\"][\"screen_name\"]\n",
    "                message = tweet[\"full_text\"]\n",
    "                messages.append(message)\n",
    "\n",
    "print(\"Read %d documents\" % len(messages))\n",
    "#print(messages)\n",
    "#print(tweet)"
   ]
  },
  {
   "cell_type": "markdown",
   "metadata": {},
   "source": [
    "# 1. Auxiliary functions"
   ]
  },
  {
   "cell_type": "markdown",
   "metadata": {},
   "source": [
    "<font size=\"+1\" color=\"red\">Replace this cell with your code for function \"jaccard_similarity\"</font>"
   ]
  },
  {
   "cell_type": "code",
   "execution_count": 3,
   "metadata": {},
   "outputs": [],
   "source": [
    "def jaccard_similarity(a, b):\n",
    "    set1 = set(a)\n",
    "    set2 = set(b)\n",
    "    intersection = set1.intersection(set2)\n",
    "    union = set1.union(set2)\n",
    "\n",
    "    if len(union) == 0:\n",
    "        return 0.0\n",
    "    else:\n",
    "        return len(intersection) / len(union)"
   ]
  },
  {
   "cell_type": "markdown",
   "metadata": {},
   "source": [
    "<font size=\"+1\" color=\"red\">Replace this cell with your code testing \"jaccard_similarity\"</font>"
   ]
  },
  {
   "cell_type": "code",
   "execution_count": 4,
   "metadata": {},
   "outputs": [
    {
     "name": "stdout",
     "output_type": "stream",
     "text": [
      "0.6666666666666666\n",
      "0.75\n",
      "1.0\n",
      "0.0\n"
     ]
    }
   ],
   "source": [
    "test_1_a = ['A', 'B', 'C']\n",
    "test_1_b = ['B', 'C']\n",
    "print(jaccard_similarity(test_1_a, test_1_b))\n",
    "\n",
    "test_2_a = ['A', 'B', 'C', 'D']\n",
    "test_2_b = ['A', 'B', 'C', 'B']\n",
    "print(jaccard_similarity(test_2_a, test_2_b))\n",
    "\n",
    "test_3_a = ['A', 'B', 'C']\n",
    "test_3_b = ['A', 'B', 'C']\n",
    "print(jaccard_similarity(test_3_a, test_3_b))\n",
    "\n",
    "test_4_a = []\n",
    "test_4_b = []\n",
    "print(jaccard_similarity(test_4_a, test_4_b))"
   ]
  },
  {
   "cell_type": "code",
   "execution_count": 5,
   "metadata": {},
   "outputs": [
    {
     "name": "stdout",
     "output_type": "stream",
     "text": [
      "10000\n"
     ]
    }
   ],
   "source": [
    "print(len(messages))"
   ]
  },
  {
   "cell_type": "markdown",
   "metadata": {},
   "source": [
    "<font size=\"+1\" color=\"red\">Replace this cell with your code for function \"clean\"</font>"
   ]
  },
  {
   "cell_type": "code",
   "execution_count": 6,
   "metadata": {},
   "outputs": [],
   "source": [
    "def clean(text):\n",
    "    text = re.sub(r'^RT ', '', text)\n",
    "    text = text.lower()\n",
    "    text = text.replace(\"ñ\", \"n\").replace(\"ó\", \"o\").replace(\"à\", \"a\").replace(\"l·l\", \"ll\").replace(\"è\", \"e\")\n",
    "    text = re.sub(r'https?://\\S+', '', text)\n",
    "    text = text.strip()\n",
    "    text = re.sub(r'[^a-zA-Z0-9\\s]', '', text)\n",
    "    text = re.sub(r'\\s+', ' ', text)\n",
    "\n",
    "    return text"
   ]
  },
  {
   "cell_type": "markdown",
   "metadata": {},
   "source": [
    "i added also that è should be replaced to e, because if not in some examples è is not being printed"
   ]
  },
  {
   "cell_type": "markdown",
   "metadata": {},
   "source": [
    "<font size=\"+1\" color=\"red\">Replace this cell with your code testing function \"clean\"</font> \n"
   ]
  },
  {
   "cell_type": "code",
   "execution_count": 7,
   "metadata": {},
   "outputs": [
    {
     "name": "stdout",
     "output_type": "stream",
     "text": [
      "cana parallela camion\n",
      "hola hola\n",
      "\n",
      "\n",
      "my function \n"
     ]
    }
   ],
   "source": [
    "#Test your function by passing it five different texts including punctuation, non-Roman characters, URLs, etc. Make sure your test cases cover all the required aspects of the specification.\n",
    "my_msg_1 = 'RT Caña, paral·lela, camión'\n",
    "my_msg_2 = 'HOLA  HoLa'\n",
    "my_msg_3 = 'https://www.google.com'\n",
    "my_msg_4 = 'http://www.google.com'\n",
    "my_msg_5 = '    my      function     @'\n",
    "\n",
    "print(clean(my_msg_1))\n",
    "print(clean(my_msg_2))\n",
    "print(clean(my_msg_3))\n",
    "print(clean(my_msg_4))\n",
    "print(clean(my_msg_5))"
   ]
  },
  {
   "cell_type": "markdown",
   "metadata": {},
   "source": [
    "# 2. Implement an n-gram extractor"
   ]
  },
  {
   "cell_type": "markdown",
   "metadata": {},
   "source": [
    "<font size=\"+1\" color=\"red\">Replace this cell with your code implementing function \"ngrams(text,size)\"</font>"
   ]
  },
  {
   "cell_type": "code",
   "execution_count": 8,
   "metadata": {},
   "outputs": [],
   "source": [
    "MIN_TOKEN_LENGTH = 3\n",
    "\n",
    "def ngrams(text, size):\n",
    "    tokens = clean(text).split()\n",
    "    final_tokens = []\n",
    "    ngrams = []\n",
    "    for t in tokens:\n",
    "        if len(t)>=MIN_TOKEN_LENGTH:\n",
    "            final_tokens.append(t)\n",
    "    for i in range(len(final_tokens) - size + 1):\n",
    "        for j in range(i, i + size):\n",
    "            my_elem = ' '.join(final_tokens[i:j+1])\n",
    "        ngrams.append(my_elem)\n",
    "    return ngrams\n"
   ]
  },
  {
   "cell_type": "markdown",
   "metadata": {},
   "source": [
    "<font size=\"+1\" color=\"red\">Replace this cell with your code testing function \"ngrams\"</font>"
   ]
  },
  {
   "cell_type": "code",
   "execution_count": 9,
   "metadata": {},
   "outputs": [
    {
     "name": "stdout",
     "output_type": "stream",
     "text": [
      "RT @diariARA: Comerciants xinesos donen mascaretes i gel antisèptic a Badalona per lluitar contra el coronavirus https://t.co/ybYXFxphIu\n",
      "['diariara comerciants xinesos', 'comerciants xinesos donen', 'xinesos donen mascaretes', 'donen mascaretes gel', 'mascaretes gel antiseptic', 'gel antiseptic badalona', 'antiseptic badalona per', 'badalona per lluitar', 'per lluitar contra', 'lluitar contra coronavirus']\n"
     ]
    }
   ],
   "source": [
    "print(messages[9780])\n",
    "print(ngrams(messages[9780], 3))"
   ]
  },
  {
   "cell_type": "markdown",
   "metadata": {},
   "source": [
    "# 3. Estimation for brute force method"
   ]
  },
  {
   "cell_type": "code",
   "execution_count": 10,
   "metadata": {},
   "outputs": [],
   "source": [
    "# LEAVE AS-IS\n",
    "\n",
    "def time_brute_force_similarities(messages, limit, ngram_size):\n",
    "    if limit > len(messages):\n",
    "        raise ValueError(\"Limit should be less than or equal than the number of messages\")\n",
    "        \n",
    "    # Start a timer\n",
    "    start = timer()\n",
    "\n",
    "    # Iterate through document identifiers\n",
    "    for docid1 in range(np.min([len(messages), limit])):\n",
    "\n",
    "        # Clean document 1 and extract ngrams\n",
    "        doc1 = clean(messages[docid1])\n",
    "        ngrams1 = ngrams(doc1, ngram_size)\n",
    "\n",
    "        # Iterate through document identifiers larger than doc2\n",
    "        for docid2 in range(docid1+1, np.min([len(messages), limit])):\n",
    "                         \n",
    "            # Clean document 2 and extract ngrams\n",
    "            doc2 = clean(messages[docid2])\n",
    "            ngrams2 = ngrams(doc2, ngram_size)\n",
    "\n",
    "            # Compute similarity\n",
    "            similarity = jaccard_similarity(ngrams1, ngrams2)\n",
    "\n",
    "    end = timer()\n",
    "    return(end - start)"
   ]
  },
  {
   "cell_type": "markdown",
   "metadata": {},
   "source": [
    "<font size=\"+1\" color=\"red\">Replace this cell with your code for generating the requested plot. Remember to label the x and y axis.</font>"
   ]
  },
  {
   "cell_type": "code",
   "execution_count": 11,
   "metadata": {},
   "outputs": [
    {
     "data": {
      "image/png": "[encoded data removed]",
      "text/plain": [
       "<Figure size 640x480 with 1 Axes>"
      ]
     },
     "metadata": {},
     "output_type": "display_data"
    }
   ],
   "source": [
    "y = []\n",
    "x = []\n",
    "for i in range(1, 2002, 150):\n",
    "    y.append(time_brute_force_similarities(messages, i, 4))\n",
    "    x.append(i)\n",
    "    \n",
    "plt.plot(x,y)\n",
    "plt.xlabel('Number of Messages to Check')\n",
    "plt.ylabel('Time (seconds)')\n",
    "plt.title('Time Complexity of Brute Force Similarity Check')\n",
    "plt.show()"
   ]
  },
  {
   "cell_type": "markdown",
   "metadata": {},
   "source": [
    "<font size=\"+1\" color=\"red\">Replace this cell with (1) a brief commmentary about what you see in this plot, and (2) your estimate for how long it would take to run the brute force similarity computations for the entire input matrix. Express your estimation in hours, minutes, and seconds. Justify precisely your calculations.</font>\n",
    "\n"
   ]
  },
  {
   "cell_type": "markdown",
   "metadata": {},
   "source": [
    "1) I see an increasing slope, and between the range [800, 1250] number of messages to check looks like it increases rapidly first, up to 1000 and then it also increases up to 1250 but the slope seems to be smaller (it's an exponential)\n",
    "\n",
    "2) There are 10000 messages as input, and in this plot we can see that it takes more or less  40 s to check 1000 messages and 120 s to check 2000 messages, so every 1000 messages to check it takes the double of the time.\n",
    "so i can do 40*(2^0+2^1+2^2+2^3+2^4+2^5+2^6+2^7+2^8)=20440s which are 5.67 min and 0.0946 h"
   ]
  },
  {
   "cell_type": "markdown",
   "metadata": {},
   "source": [
    "# 4. Computing the doc-ngram matrix"
   ]
  },
  {
   "cell_type": "markdown",
   "metadata": {},
   "source": [
    "## 4.1 Create list of all ngrams"
   ]
  },
  {
   "cell_type": "markdown",
   "metadata": {},
   "source": [
    "<font size=\"+1\" color=\"red\">Replace this cell with your code for creating the ngram_to_index dictionary.</font>"
   ]
  },
  {
   "cell_type": "code",
   "execution_count": 12,
   "metadata": {},
   "outputs": [
    {
     "name": "stdout",
     "output_type": "stream",
     "text": [
      "There are 110568 distinct ngrams in the 10000 documents\n"
     ]
    }
   ],
   "source": [
    "NGRAM_SIZE = 4\n",
    "\n",
    "ngram_to_index = {}\n",
    "index_to_ngram = {}\n",
    "next_index = 0\n",
    "\n",
    "for message in messages:\n",
    "    all_ngrams = ngrams(message, NGRAM_SIZE)\n",
    "    for ngram in all_ngrams:\n",
    "        ngram_to_index[ngram] = next_index \n",
    "        index_to_ngram[next_index] = ngram\n",
    "\n",
    "        next_index +=1\n",
    "        \n",
    "        \n",
    "\n",
    "num_distinct_ngrams = next_index\n",
    "\n",
    "print(\"There are %d distinct ngrams in the %d documents\" % (num_distinct_ngrams, len(messages)))"
   ]
  },
  {
   "cell_type": "code",
   "execution_count": 13,
   "metadata": {},
   "outputs": [
    {
     "name": "stdout",
     "output_type": "stream",
     "text": [
      "45790\n",
      "56854\n"
     ]
    }
   ],
   "source": [
    "print(ngram_to_index['els restaurants han reduir'])\n",
    "print(ngram_to_index['supera fins tot mateix'])"
   ]
  },
  {
   "cell_type": "markdown",
   "metadata": {},
   "source": [
    " els restaurants han reduir    supera fins tot mateix\n",
    " \n",
    " Use these examples"
   ]
  },
  {
   "cell_type": "markdown",
   "metadata": {},
   "source": [
    "<font size=\"+1\" color=\"red\">Replace this cell with your code for testing the ngram_to_index structure.</font>"
   ]
  },
  {
   "cell_type": "code",
   "execution_count": 14,
   "metadata": {},
   "outputs": [
    {
     "name": "stdout",
     "output_type": "stream",
     "text": [
      "espanya supera italia velocitat\n",
      "aquest tractament realment pugui\n"
     ]
    }
   ],
   "source": [
    "print(index_to_ngram[45696])\n",
    "print(index_to_ngram[56737])"
   ]
  },
  {
   "cell_type": "markdown",
   "metadata": {},
   "source": [
    "## 2.2 Create table ngrams x documents"
   ]
  },
  {
   "cell_type": "code",
   "execution_count": 15,
   "metadata": {},
   "outputs": [
    {
     "name": "stdout",
     "output_type": "stream",
     "text": [
      "Matrix dimensions: 110568 rows (distinct shingles) x 10000 columns (distinct documents)\n"
     ]
    }
   ],
   "source": [
    "# LEAVE AS-IS\n",
    "\n",
    "# Create dense matrix in which every cell contains the value \"False\"\n",
    "M_ngram_doc = np.full((num_distinct_ngrams, len(messages)), False)\n",
    "\n",
    "# Print the number of rows and columns of this matrix\n",
    "# numpy.matrix.shape is a tuple, shape[0] is the number of rows, shape[1] the number of columns\n",
    "print(\"Matrix dimensions: %d rows (distinct shingles) x %d columns (distinct documents)\" % M_ngram_doc.shape)"
   ]
  },
  {
   "cell_type": "markdown",
   "metadata": {},
   "source": [
    "<font size=\"+1\" color=\"red\">Replace this cell with your code for filling the M_ngram_doc matrix.</font>"
   ]
  },
  {
   "cell_type": "code",
   "execution_count": 16,
   "metadata": {},
   "outputs": [
    {
     "name": "stdout",
     "output_type": "stream",
     "text": [
      "[[False False False ... False False False]\n",
      " [False False False ... False False False]\n",
      " [False False False ... False False False]\n",
      " ...\n",
      " [False False False ... False False  True]\n",
      " [False False False ... False False  True]\n",
      " [False False False ... False False  True]]\n"
     ]
    }
   ],
   "source": [
    "ngram_size = 4\n",
    "\n",
    "for docid in range(len(messages)):\n",
    "    message = messages[docid]\n",
    "    all_ngrams = ngrams(message, ngram_size)  \n",
    "    for ngram in all_ngrams:\n",
    "        ngram_index = ngram_to_index.get(ngram)\n",
    "        if ngram_index is not None:  \n",
    "            M_ngram_doc[ngram_index][docid] = True\n",
    "\n",
    "print(M_ngram_doc)"
   ]
  },
  {
   "cell_type": "markdown",
   "metadata": {},
   "source": [
    "<font size=\"+1\" color=\"red\">Replace this cell with your code for printing the density of the M_ngram_doc matrix as a percentage.</font>"
   ]
  },
  {
   "cell_type": "code",
   "execution_count": 17,
   "metadata": {},
   "outputs": [
    {
     "name": "stdout",
     "output_type": "stream",
     "text": [
      "0.00999990955791911\n"
     ]
    }
   ],
   "source": [
    "tot = M_ngram_doc.size\n",
    "\n",
    "true_elem = np.count_nonzero(M_ngram_doc)\n",
    "\n",
    "density_percentage = (true_elem / tot) * 100\n",
    "\n",
    "print(density_percentage)"
   ]
  },
  {
   "cell_type": "markdown",
   "metadata": {},
   "source": [
    "<font size=\"+1\" color=\"red\">Replace this cell with your code for printing rows 9602 and 941 of the M_ngram_doc matrix.</font>"
   ]
  },
  {
   "cell_type": "code",
   "execution_count": 18,
   "metadata": {},
   "outputs": [
    {
     "name": "stdout",
     "output_type": "stream",
     "text": [
      "Positions of non-zeros in column of docid 9602 of M_ngram_doc\n",
      "\n",
      "Clean message:\n",
      "\n",
      "emergenciescat que puc fer i que no faqs del coronavirus a 14 de mar si us plau demanem difusio\n",
      "Non-zeros in corresponding row:\n",
      "110510 emergenciescat que puc fer\n",
      "110511 que puc fer que\n",
      "110512 puc fer que faqs\n",
      "110513 fer que faqs del\n",
      "110514 que faqs del coronavirus\n",
      "110515 faqs del coronavirus mar\n",
      "110516 del coronavirus mar plau\n",
      "110517 coronavirus mar plau demanem\n",
      "110518 mar plau demanem difusio\n"
     ]
    }
   ],
   "source": [
    "\n",
    "non_zero_indices = np.nonzero(M_ngram_doc[:, 9602])[0]\n",
    "\n",
    "print(\"Positions of non-zeros in column of docid 9602 of M_ngram_doc\\n\")\n",
    "\n",
    "# Clean message of the specified document\n",
    "clean_message = clean(messages[9602])\n",
    "print(\"Clean message:\\n\")\n",
    "print(clean_message)\n",
    "\n",
    "print(\"Non-zeros in corresponding row:\")\n",
    "my_arr = []\n",
    "for i in non_zero_indices:\n",
    "    print(i,index_to_ngram[i])\n"
   ]
  },
  {
   "cell_type": "code",
   "execution_count": 19,
   "metadata": {},
   "outputs": [
    {
     "name": "stdout",
     "output_type": "stream",
     "text": [
      "Positions of non-zeros in column of docid 941 of M_ngram_doc\n",
      "\n",
      "Clean message:\n",
      "\n",
      "hospiolot usem de forma responsable els recursos sanitaris 061 urgencies per coronavirus i sanitaries 012 consultes general\n",
      "Non-zeros in corresponding row:\n",
      "103660 hospiolot usem forma responsable\n",
      "103671 sanitaries 012 consultes general\n",
      "104120 els recursos sanitaris 061\n",
      "104121 recursos sanitaris 061 urgencies\n",
      "104122 sanitaris 061 urgencies per\n",
      "105213 usem forma responsable els\n",
      "105214 forma responsable els recursos\n",
      "105215 responsable els recursos sanitaris\n",
      "109004 061 urgencies per coronavirus\n",
      "109005 urgencies per coronavirus sanitaries\n",
      "109006 per coronavirus sanitaries 012\n",
      "109007 coronavirus sanitaries 012 consultes\n"
     ]
    }
   ],
   "source": [
    "non_zero_indices = np.nonzero(M_ngram_doc[:, 941])[0]\n",
    "\n",
    "print(\"Positions of non-zeros in column of docid 941 of M_ngram_doc\\n\")\n",
    "\n",
    "# Clean message of the specified document\n",
    "clean_message = clean(messages[941])\n",
    "print(\"Clean message:\\n\")\n",
    "print(clean_message)\n",
    "\n",
    "print(\"Non-zeros in corresponding row:\")\n",
    "my_arr = []\n",
    "for i in non_zero_indices:\n",
    "    print(i,index_to_ngram[i])\n"
   ]
  },
  {
   "cell_type": "markdown",
   "metadata": {},
   "source": [
    "# 3. Implement a permutation generator"
   ]
  },
  {
   "cell_type": "markdown",
   "metadata": {},
   "source": [
    "<font size=\"+1\" color=\"red\">Replace this cell with your code for \"random_permutation\"</font>"
   ]
  },
  {
   "cell_type": "code",
   "execution_count": 20,
   "metadata": {},
   "outputs": [],
   "source": [
    "def random_permutation(k):\n",
    "    my_list = list(range(k))\n",
    "    random.shuffle(my_list)\n",
    "    return my_list\n",
    "        \n",
    "#random_permutation(20)\n",
    "        "
   ]
  },
  {
   "cell_type": "code",
   "execution_count": 21,
   "metadata": {},
   "outputs": [
    {
     "name": "stdout",
     "output_type": "stream",
     "text": [
      "Test one permutation:\n",
      "['3 (test3)', '4 (test4)', '2 (test2)', '5 (test5)', '1 (test1)']\n",
      "['3 (beta)', '4 (delta)', '2 (gamma)', '5 (epsilon)', '1 (alpha)']\n",
      "\n",
      "Test another permutation\n",
      "['1 (test1)', '2 (test2)', '5 (test5)', '3 (test3)', '4 (test4)']\n",
      "['1 (alpha)', '2 (gamma)', '5 (epsilon)', '3 (beta)', '4 (delta)']\n"
     ]
    }
   ],
   "source": [
    "# LEAVE AS-IS\n",
    "\n",
    "# Permute a list according to a permutation\n",
    "def permuter(original_list, permutation):\n",
    "    permuted_list = []\n",
    "    for index in permutation:\n",
    "        permuted_list.append(original_list[index])\n",
    "    return permuted_list\n",
    "\n",
    "# Code for testing permutations\n",
    "original_list_1 = [\"1 (test1)\", \"2 (test2)\", \"3 (test3)\", \"4 (test4)\", \"5 (test5)\"]\n",
    "original_list_2 = [\"1 (alpha)\", \"2 (gamma)\", \"3 (beta)\", \"4 (delta)\", \"5 (epsilon)\"]\n",
    "\n",
    "print(\"Test one permutation:\")\n",
    "permutation_1 = random_permutation(5)\n",
    "print(permuter(original_list_1, permutation_1))\n",
    "print(permuter(original_list_2, permutation_1))\n",
    "\n",
    "print()\n",
    "\n",
    "print(\"Test another permutation\")\n",
    "permutation_2 = random_permutation(5)\n",
    "print(permuter(original_list_1, permutation_2))\n",
    "print(permuter(original_list_2, permutation_2))"
   ]
  },
  {
   "cell_type": "markdown",
   "metadata": {},
   "source": [
    "# 4. Compute the signature of each document"
   ]
  },
  {
   "cell_type": "code",
   "execution_count": 22,
   "metadata": {},
   "outputs": [
    {
     "name": "stdout",
     "output_type": "stream",
     "text": [
      "Permutation 0: 52870, 12701, 34005, ...\n",
      "Permutation 1: 93888, 2764, 62576, ...\n",
      "Permutation 2: 32799, 77603, 41360, ...\n",
      "Permutation 3: 108398, 71121, 19559, ...\n",
      "Permutation 4: 78403, 82068, 17023, ...\n"
     ]
    }
   ],
   "source": [
    "# Leave this code as-is\n",
    "\n",
    "NUM_PERMUTATIONS = 5\n",
    "\n",
    "permutations = []\n",
    "\n",
    "# Create the permutations\n",
    "for i in range(NUM_PERMUTATIONS):\n",
    "    permutation = random_permutation(num_distinct_ngrams)\n",
    "    permutations.append(random_permutation(num_distinct_ngrams))\n",
    "    \n",
    "# Visualize the permutations by printing their first 3 elements\n",
    "for i in range(len(permutations)):\n",
    "    permutation = permutations[i]\n",
    "    print(\"Permutation %d: %d, %d, %d, ...\" % (i, permutation[0], permutation[1], permutation[2] ))"
   ]
  },
  {
   "cell_type": "markdown",
   "metadata": {},
   "source": [
    "<font size=\"+1\" color=\"red\">Replace this cell with your code for creating M_signature_doc</font>"
   ]
  },
  {
   "cell_type": "code",
   "execution_count": 23,
   "metadata": {},
   "outputs": [
    {
     "name": "stdout",
     "output_type": "stream",
     "text": [
      "Creating signatures for permutation 1/5\n",
      "- Scanning document 0 of 10000\n",
      "- Scanning document 1000 of 10000\n",
      "- Scanning document 2000 of 10000\n",
      "- Scanning document 3000 of 10000\n",
      "- Scanning document 4000 of 10000\n",
      "- Scanning document 5000 of 10000\n",
      "- Scanning document 6000 of 10000\n",
      "- Scanning document 7000 of 10000\n",
      "- Scanning document 8000 of 10000\n",
      "- Scanning document 9000 of 10000\n",
      "Creating signatures for permutation 2/5\n",
      "- Scanning document 0 of 10000\n",
      "- Scanning document 1000 of 10000\n",
      "- Scanning document 2000 of 10000\n",
      "- Scanning document 3000 of 10000\n",
      "- Scanning document 4000 of 10000\n",
      "- Scanning document 5000 of 10000\n",
      "- Scanning document 6000 of 10000\n",
      "- Scanning document 7000 of 10000\n",
      "- Scanning document 8000 of 10000\n",
      "- Scanning document 9000 of 10000\n",
      "Creating signatures for permutation 3/5\n",
      "- Scanning document 0 of 10000\n",
      "- Scanning document 1000 of 10000\n",
      "- Scanning document 2000 of 10000\n",
      "- Scanning document 3000 of 10000\n",
      "- Scanning document 4000 of 10000\n",
      "- Scanning document 5000 of 10000\n",
      "- Scanning document 6000 of 10000\n",
      "- Scanning document 7000 of 10000\n",
      "- Scanning document 8000 of 10000\n",
      "- Scanning document 9000 of 10000\n",
      "Creating signatures for permutation 4/5\n",
      "- Scanning document 0 of 10000\n",
      "- Scanning document 1000 of 10000\n",
      "- Scanning document 2000 of 10000\n",
      "- Scanning document 3000 of 10000\n",
      "- Scanning document 4000 of 10000\n",
      "- Scanning document 5000 of 10000\n",
      "- Scanning document 6000 of 10000\n",
      "- Scanning document 7000 of 10000\n",
      "- Scanning document 8000 of 10000\n",
      "- Scanning document 9000 of 10000\n",
      "Creating signatures for permutation 5/5\n",
      "- Scanning document 0 of 10000\n",
      "- Scanning document 1000 of 10000\n",
      "- Scanning document 2000 of 10000\n",
      "- Scanning document 3000 of 10000\n",
      "- Scanning document 4000 of 10000\n",
      "- Scanning document 5000 of 10000\n",
      "- Scanning document 6000 of 10000\n",
      "- Scanning document 7000 of 10000\n",
      "- Scanning document 8000 of 10000\n",
      "- Scanning document 9000 of 10000\n"
     ]
    }
   ],
   "source": [
    "M_signature_doc = np.full((NUM_PERMUTATIONS, len(messages)), np.nan)\n",
    "\n",
    "# Find the first ngram in a document, according to a permutation\n",
    "def find_first_one(docid, permutation):\n",
    "    for shingle_id in permutation:\n",
    "        if M_ngram_doc[shingle_id, docid] == True:\n",
    "            return shingle_id\n",
    "    return -1\n",
    "\n",
    "# Create permutations\n",
    "for permutation_num in range(NUM_PERMUTATIONS):\n",
    "    print(\"Creating signatures for permutation %d/%d\" % (permutation_num+1, NUM_PERMUTATIONS))\n",
    "    permutation = permutations[permutation_num]\n",
    "    for docid in range(len(messages)):\n",
    "        if docid % 1000 == 0:\n",
    "            print(\"- Scanning document %d of %d\" % (docid, len(messages)))\n",
    "        first_ngram_id = find_first_one(docid, permutation)\n",
    "        M_signature_doc[permutation_num, docid] = first_ngram_id"
   ]
  },
  {
   "cell_type": "code",
   "execution_count": 24,
   "metadata": {},
   "outputs": [
    {
     "name": "stdout",
     "output_type": "stream",
     "text": [
      "Document #385\n",
      "Message       : RT @gencat: 🔴 El @govern de la @gencat anuncia el #confinament de tot Catalunya.\n",
      "\n",
      "Davant l’emergència de la #COVID19, el missatge és clau:…\n",
      "Clean message : gencat el govern de la gencat anuncia el confinament de tot catalunya davant lemergencia de la covid19 el missatge s clau\n",
      "Ngrams        : [106908, 106909, 106910, 106911, 106912, 106913, 106914, 106915, 106916]\n",
      "Signature     : [106910.0, 106914.0, 106915.0, 106914.0, 106911.0]\n",
      "\n",
      "Document #627\n",
      "Message       : PROCICAT_CORONAVIRUS. El @govern de la @gencat anuncia el #confinament de tot Catalunya. Davant l’emergència de la #COVID19, el missatge és clau: limitar la mobilitat ajudarà a evitar la propagació del #coronavirus. Evitem desplaçaments i reduïm la vida social #JoEmQuedoACasa\n",
      "Clean message : procicatcoronavirus el govern de la gencat anuncia el confinament de tot catalunya davant lemergencia de la covid19 el missatge s clau limitar la mobilitat ajudara a evitar la propagacio del coronavirus evitem desplaaments i redum la vida social joemquedoacasa\n",
      "Ngrams        : [7004, 7020, 7021, 7022, 7023, 7024, 7025, 106909, 106910, 106911, 106912, 106913, 106914, 106915, 106916, 107635, 107636, 107637, 107638, 107639, 107640, 107889]\n",
      "Signature     : [7022.0, 106914.0, 7024.0, 106914.0, 107640.0]\n"
     ]
    }
   ],
   "source": [
    "# Leave this code as-is\n",
    "\n",
    "def extract_ngrams(docid):\n",
    "    return [x for x in range(num_distinct_ngrams) if M_ngram_doc[x, docid] == True]\n",
    "\n",
    "def extract_signature(docid):\n",
    "    return [M_signature_doc[x, docid] for x in range(NUM_PERMUTATIONS)]\n",
    "\n",
    "def print_sig(messages, M_ngram_doc, M_signature_doc, i):\n",
    "    print(\"Document #%d\" % i)\n",
    "    print(\"Message       : %s\" % messages[i])\n",
    "    print(\"Clean message : %s\" % clean(messages[i]))\n",
    "    print(\"Ngrams        : %s\" % extract_ngrams(i))\n",
    "    print(\"Signature     : %s\" % extract_signature(i))\n",
    "\n",
    "        \n",
    "i = 385\n",
    "j = 627\n",
    "\n",
    "print_sig(messages, M_ngram_doc, M_signature_doc, i )\n",
    "\n",
    "print()\n",
    "\n",
    "print_sig(messages, M_ngram_doc, M_signature_doc, j )"
   ]
  },
  {
   "cell_type": "markdown",
   "metadata": {},
   "source": [
    "# 5. Compare all pairs of signatures"
   ]
  },
  {
   "cell_type": "markdown",
   "metadata": {},
   "source": [
    "<font size=\"+1\" color=\"red\">Replace this cell with your code for comparing all signatures; print all documents that have at least 50 signature matches, considering both full matches and partial matches.</font>"
   ]
  },
  {
   "cell_type": "code",
   "execution_count": 25,
   "metadata": {},
   "outputs": [
    {
     "name": "stdout",
     "output_type": "stream",
     "text": [
      "Document 16 has 71 full matches and 18 partial matches\n",
      "Document 19 has 11 full matches and 55 partial matches\n",
      "Document 20 has 28 full matches and 23 partial matches\n",
      "Document 42 has 21 full matches and 31 partial matches\n",
      "Document 53 has 57 full matches and 0 partial matches\n",
      "Document 73 has 16 full matches and 36 partial matches\n",
      "Document 83 has 126 full matches and 0 partial matches\n",
      "Document 166 has 56 full matches and 0 partial matches\n",
      "Document 226 has 13 full matches and 46 partial matches\n",
      "Document 328 has 65 full matches and 0 partial matches\n",
      "Document 5077 has 176 full matches and 33 partial matches\n",
      "Document 5109 has 66 full matches and 0 partial matches\n",
      "Document 5117 has 71 full matches and 0 partial matches\n",
      "Document 5129 has 54 full matches and 0 partial matches\n",
      "Document 5271 has 54 full matches and 0 partial matches\n",
      "Document 5636 has 80 full matches and 0 partial matches\n"
     ]
    }
   ],
   "source": [
    "is_possible_duplicate = {}\n",
    "THRESHOLD = 50\n",
    "\n",
    "# Iterate through all documents\n",
    "for docid1 in range(len(messages)):\n",
    "    \n",
    "    #Do not examine again a document that is a possible duplicate\n",
    "    if docid1 not in is_possible_duplicate:\n",
    "        \n",
    "        #Counters for full and partial signature matches\n",
    "        count_sig_full_matches = 0\n",
    "        count_sig_partial_matches = 0\n",
    "\n",
    "        #Extract the signature of doc1\n",
    "        signature1 = M_signature_doc[:, docid1]\n",
    "\n",
    "        #Iterate through documents with docid larger than doc1\n",
    "        for docid2 in range(docid1 + 1, len(messages)):\n",
    "            \n",
    "            #If this has not already been marked as a duplicate of another document\n",
    "            if docid2 not in is_possible_duplicate:\n",
    "                \n",
    "                #Extract signature of doc2\n",
    "                signature2 = M_signature_doc[:, docid2]\n",
    "\n",
    "                full_match = np.array_equal(signature1, signature2)\n",
    "\n",
    "                if not full_match:\n",
    "                    partial_match = np.sum(signature1 == signature2) > 0\n",
    "\n",
    "                if full_match:\n",
    "                    count_sig_full_matches += 1\n",
    "                    is_possible_duplicate[docid2] = docid1\n",
    "                elif partial_match:\n",
    "                    count_sig_partial_matches += 1\n",
    "\n",
    "        #If the number of partial matches plus full matches exceeds the threshold, print the document doc1\n",
    "        if count_sig_full_matches + count_sig_partial_matches >= THRESHOLD:\n",
    "            print(\"Document %d has %d full matches and %d partial matches\" % (docid1, count_sig_full_matches, count_sig_partial_matches))"
   ]
  },
  {
   "cell_type": "markdown",
   "metadata": {},
   "source": [
    "<font size=\"+1\" color=\"red\">Replace this cell with a brief commentary, based on the results above, about one tweet that has a substantial number of complete matches, but few partial matches. Include the full text of the original tweet. Comment on why you believe this tweet is not being changed much when copied or re-tweeted.</font>"
   ]
  },
  {
   "cell_type": "code",
   "execution_count": 26,
   "metadata": {},
   "outputs": [
    {
     "name": "stdout",
     "output_type": "stream",
     "text": [
      "Document #83\n",
      "Message       : RT @MainatJM: Imbècil total...\n",
      "Clean message : mainatjm imbecil total\n",
      "Ngrams        : []\n",
      "Signature     : [-1.0, -1.0, -1.0, -1.0, -1.0]\n"
     ]
    }
   ],
   "source": [
    "print_sig(messages, M_ngram_doc, M_signature_doc, 83 )"
   ]
  },
  {
   "cell_type": "markdown",
   "metadata": {},
   "source": [
    "The tweet \"Document 83\" with 126 full matches and 0 partial matches. This means that the this tweet is retweeted a lot of times or it is copied. This can be because its high popularity, or the need to stay within the Twitter's character limit, quoting the tweet while adding comments. The absence of partial matches implies minimal variation in the content when shared.\n"
   ]
  },
  {
   "cell_type": "markdown",
   "metadata": {},
   "source": [
    "<font size=\"+1\" color=\"red\">Replace this cell with a brief commentary, based on the results above, about one tweet that has a substantial number of partial matches, but fewer complete matches. Include the full text of the original tweet and one near duplicate (that cannot be identical to the original tweet).</font>"
   ]
  },
  {
   "cell_type": "code",
   "execution_count": 27,
   "metadata": {},
   "outputs": [
    {
     "name": "stdout",
     "output_type": "stream",
     "text": [
      "Document #77\n",
      "Message       : RT @emergenciescat: ✅ Què puc fer i ⛔ què no si estic en una zona afectada pel confinament? \n",
      "\n",
      "#ProteccioCivil #Coronavirus https://t.co/lxz…\n",
      "Clean message : emergenciescat que puc fer i que no si estic en una zona afectada pel confinament protecciocivil coronavirus\n",
      "Ngrams        : [53479, 53480, 53481, 53482, 53483, 53484, 53485, 53486, 110510, 110511]\n",
      "Signature     : [53486.0, 53481.0, 53480.0, 53481.0, 53484.0]\n"
     ]
    }
   ],
   "source": [
    "print_sig(messages, M_ngram_doc, M_signature_doc, 77)"
   ]
  },
  {
   "cell_type": "markdown",
   "metadata": {},
   "source": [
    "The high number of partial matches indicates that the tweet shares common phrases or keywords with many other documents in the dataset. However, the specific combination of these elements, along with potentially unique phrases or details mentioned in the tweet, makes it distinct enough to have only a few full matches. This suggests that while the tweet's general theme and context are found in other documents, the wording and additional information provided in Document 77 make it less common in its entirety."
   ]
  },
  {
   "cell_type": "markdown",
   "metadata": {},
   "source": [
    "# DELIVER (individually)\n",
    "\n",
    "Remember to read the section on \"delivering your code\" in the [course evaluation guidelines](https://github.com/chatox/data-mining-course/blob/master/upf/upf-evaluation.md).\n",
    "\n",
    "Deliver a zip file containing:\n",
    "\n",
    "* This notebook\n",
    "\n",
    "## Extra points available\n",
    "\n",
    "For more learning and extra points, compare what happens with 3 different ngram sizes (2-grams, 3-grams, 4-grams) in terms of the efficiency (speed) and effectiveness (accuracy). You can include plots for efficiency, and examples for effectiveness.\n",
    "\n",
    "**Note:** if you go for the extra points, add ``<font size=\"+2\" color=\"blue\">Additional results: various ngram sizes</font>`` at the top of your notebook.\n",
    "\n",
    "<font size=\"-1\" color=\"gray\">(Remove this cell when delivering.)</font>"
   ]
  },
  {
   "cell_type": "code",
   "execution_count": 28,
   "metadata": {},
   "outputs": [
    {
     "data": {
      "image/png": "[encoded data removed]",
      "text/plain": [
       "<Figure size 640x480 with 1 Axes>"
      ]
     },
     "metadata": {},
     "output_type": "display_data"
    },
    {
     "data": {
      "image/png": "[encoded data removed]",
      "text/plain": [
       "<Figure size 640x480 with 1 Axes>"
      ]
     },
     "metadata": {},
     "output_type": "display_data"
    },
    {
     "data": {
      "image/png": "[encoded data removed]",
      "text/plain": [
       "<Figure size 640x480 with 1 Axes>"
      ]
     },
     "metadata": {},
     "output_type": "display_data"
    }
   ],
   "source": [
    "#EFFICIENCY (Speed) Comparison:\n",
    "def efficiency_comp(messages, ngram_n):\n",
    "    y = []\n",
    "    x = []\n",
    "    for i in range(1, 2002, 150):\n",
    "        y.append(time_brute_force_similarities(messages, i, ngram_n))\n",
    "        x.append(i)\n",
    "    \n",
    "    plt.plot(x,y)\n",
    "    plt.xlabel('Number of Messages to Check')\n",
    "    plt.ylabel('Time (seconds)')\n",
    "    plt.title('Time Complexity of Brute Force Similarity Check')\n",
    "    plt.show()\n",
    "    \n",
    "efficiency_comp(messages, 2)  # For 2-grams\n",
    "efficiency_comp(messages, 3)  # For 3-grams\n",
    "efficiency_comp(messages, 4)  # For 4-grams\n"
   ]
  },
  {
   "cell_type": "markdown",
   "metadata": {},
   "source": [
    "Here we can see that when we increase the number of n garms it starts taking more time to check the messages. As the n-gram size increases, the number of possible combinations grows exponentially. This complexity can significantly slow down algorithms that involve comparing all possible pairs of n-grams between documents."
   ]
  },
  {
   "cell_type": "code",
   "execution_count": 29,
   "metadata": {},
   "outputs": [],
   "source": [
    "def calculate_similarities(messages, ngram_num):\n",
    "    for docid1 in range(np.min([len(messages)])):\n",
    "\n",
    "        # Clean document 1 and extract ngrams\n",
    "        doc1 = clean(messages[docid1])\n",
    "        ngrams1 = ngrams(doc1, ngram_size)\n",
    "\n",
    "        # Iterate through document identifiers larger than doc2\n",
    "        for docid2 in range(docid1+1, np.min([len(messages)])):\n",
    "                         \n",
    "            # Clean document 2 and extract ngrams\n",
    "            doc2 = clean(messages[docid2])\n",
    "            ngrams2 = ngrams(doc2, ngram_size)\n",
    "\n",
    "            # Compute similarity\n",
    "            similarity = jaccard_similarity(ngrams1, ngrams2)  \n",
    "    return similarity"
   ]
  },
  {
   "cell_type": "markdown",
   "metadata": {},
   "source": [
    "#EFFECTIVENESS EXAMPLE: i wanted to give an example of the top similar pair for the different n-gram size \n",
    "#and wrote this code, but it is not working, it takes a lot of time\n",
    "\n",
    "similarities_2grams = calculate_similarities(messages, 2)\n",
    "similarities_3grams = calculate_similarities(messages, 3)\n",
    "similarities_4grams = calculate_similarities(messages, 4)\n",
    "\n",
    "# Function to get top similar pairs based on similarities\n",
    "\n",
    "def get_top_similar_pairs(similarities, num_top_pairs=5):\n",
    "    sorted_pairs = sorted(similarities, key=lambda x: x[2], reverse=True)[:num_top_pairs]\n",
    "    return [(pair[0], pair[1]) for pair in sorted_pairs]\n",
    "\n",
    "top_pairs_2grams = get_top_similar_pairs(similarities_2grams)\n",
    "top_pairs_3grams = get_top_similar_pairs(similarities_3grams)\n",
    "top_pairs_4grams = get_top_similar_pairs(similarities_4grams)\n",
    "\n",
    "\n",
    "print(\"Top Similar Pairs (2-grams):\")\n",
    "for pair in top_pairs_2grams:\n",
    "    print(messages[pair[0]])\n",
    "    print(messages[pair[1]])\n",
    "    print(\"Similarity Score:\", similarities_2grams[(pair[0], pair[1])])\n",
    "    print()\n",
    "\n",
    "    \n",
    "print(\"Top Similar Pairs (3-grams):\")\n",
    "for pair in top_pairs_3grams:\n",
    "    print(messages[pair[0]])\n",
    "    print(messages[pair[1]])\n",
    "    print(\"Similarity Score:\", similarities_3grams[(pair[0], pair[1])])\n",
    "    print()\n",
    "\n",
    "print(\"Top Similar Pairs (4-grams):\")\n",
    "for pair in top_pairs_4grams:\n",
    "    print(messages[pair[0]])\n",
    "    print(messages[pair[1]])\n",
    "    print(\"Similarity Score:\", similarities_4grams[(pair[0], pair[1])])\n",
    "    print()\n"
   ]
  },
  {
   "cell_type": "markdown",
   "metadata": {},
   "source": [
    "<font size=\"+2\" color=\"#003300\">I hereby declare that, except for the code provided by the course instructors, all of my code, report, and figures were produced by myself.</font>"
   ]
  }
 ],
 "metadata": {
  "kernelspec": {
   "display_name": "Python 3 (ipykernel)",
   "language": "python",
   "name": "python3"
  },
  "language_info": {
   "codemirror_mode": {
    "name": "ipython",
    "version": 3
   },
   "file_extension": ".py",
   "mimetype": "text/x-python",
   "name": "python",
   "nbconvert_exporter": "python",
   "pygments_lexer": "ipython3",
   "version": "3.11.5"
  }
 },
 "nbformat": 4,
 "nbformat_minor": 2
}
